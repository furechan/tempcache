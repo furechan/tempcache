{
 "cells": [
  {
   "cell_type": "code",
   "execution_count": 33,
   "id": "initial_id",
   "metadata": {
    "collapsed": true,
    "ExecuteTime": {
     "end_time": "2023-12-04T22:00:26.978864Z",
     "start_time": "2023-12-04T22:00:26.965549Z"
    }
   },
   "outputs": [],
   "source": [
    "import pickle\n",
    "import inspect"
   ]
  },
  {
   "cell_type": "code",
   "execution_count": 34,
   "outputs": [],
   "source": [
    "def foo(a=1, b=2):\n",
    "    pass\n",
    "\n",
    "def get_parameters(func, *args, **kwargs):\n",
    "    signature = inspect.signature(func)\n",
    "    params = signature.bind(*args, **kwargs)\n",
    "    params.apply_defaults()\n",
    "    return params"
   ],
   "metadata": {
    "collapsed": false,
    "ExecuteTime": {
     "end_time": "2023-12-04T22:00:27.254604Z",
     "start_time": "2023-12-04T22:00:27.242036Z"
    }
   },
   "id": "2dd50bdbb32d8cd9"
  },
  {
   "cell_type": "code",
   "execution_count": 35,
   "outputs": [
    {
     "name": "stdout",
     "output_type": "stream",
     "text": [
      "<BoundArguments (a=1, b=2)>\n"
     ]
    },
    {
     "data": {
      "text/plain": "b'\\x80\\x04\\x95\"\\x01\\x00\\x00\\x00\\x00\\x00\\x00\\x8c\\x07inspect\\x94\\x8c\\x0eBoundArguments\\x94\\x93\\x94)\\x81\\x94}\\x94(\\x8c\\n_signature\\x94h\\x00\\x8c\\tSignature\\x94\\x93\\x94h\\x00\\x8c\\tParameter\\x94\\x93\\x94\\x8c\\x01a\\x94\\x8c\\x08builtins\\x94\\x8c\\x07getattr\\x94\\x93\\x94h\\x00\\x8c\\x0e_ParameterKind\\x94\\x93\\x94\\x8c\\x15POSITIONAL_OR_KEYWORD\\x94\\x86\\x94R\\x94\\x86\\x94R\\x94}\\x94(\\x8c\\x08_default\\x94K\\x01\\x8c\\x0b_annotation\\x94h\\x00\\x8c\\x06_empty\\x94\\x93\\x94ubh\\t\\x8c\\x01b\\x94h\\x12\\x86\\x94R\\x94}\\x94(h\\x16K\\x02h\\x17h\\x19ub\\x86\\x94\\x85\\x94R\\x94}\\x94\\x8c\\x12_return_annotation\\x94h\\x19sb\\x8c\\targuments\\x94}\\x94(h\\nK\\x01h\\x1aK\\x02uub.'"
     },
     "execution_count": 35,
     "metadata": {},
     "output_type": "execute_result"
    }
   ],
   "source": [
    "params = get_parameters(foo, a=1)\n",
    "print(params)\n",
    "pickle.dumps(params)"
   ],
   "metadata": {
    "collapsed": false,
    "ExecuteTime": {
     "end_time": "2023-12-04T22:00:27.602719Z",
     "start_time": "2023-12-04T22:00:27.591155Z"
    }
   },
   "id": "ee7597157830da4d"
  },
  {
   "cell_type": "code",
   "execution_count": 36,
   "outputs": [
    {
     "name": "stdout",
     "output_type": "stream",
     "text": [
      "<BoundArguments (a=1, b=2)>\n"
     ]
    },
    {
     "data": {
      "text/plain": "b'\\x80\\x04\\x95\"\\x01\\x00\\x00\\x00\\x00\\x00\\x00\\x8c\\x07inspect\\x94\\x8c\\x0eBoundArguments\\x94\\x93\\x94)\\x81\\x94}\\x94(\\x8c\\n_signature\\x94h\\x00\\x8c\\tSignature\\x94\\x93\\x94h\\x00\\x8c\\tParameter\\x94\\x93\\x94\\x8c\\x01a\\x94\\x8c\\x08builtins\\x94\\x8c\\x07getattr\\x94\\x93\\x94h\\x00\\x8c\\x0e_ParameterKind\\x94\\x93\\x94\\x8c\\x15POSITIONAL_OR_KEYWORD\\x94\\x86\\x94R\\x94\\x86\\x94R\\x94}\\x94(\\x8c\\x08_default\\x94K\\x01\\x8c\\x0b_annotation\\x94h\\x00\\x8c\\x06_empty\\x94\\x93\\x94ubh\\t\\x8c\\x01b\\x94h\\x12\\x86\\x94R\\x94}\\x94(h\\x16K\\x02h\\x17h\\x19ub\\x86\\x94\\x85\\x94R\\x94}\\x94\\x8c\\x12_return_annotation\\x94h\\x19sb\\x8c\\targuments\\x94}\\x94(h\\nK\\x01h\\x1aK\\x02uub.'"
     },
     "execution_count": 36,
     "metadata": {},
     "output_type": "execute_result"
    }
   ],
   "source": [
    "params = get_parameters(foo, b=2)\n",
    "print(params)\n",
    "pickle.dumps(params)"
   ],
   "metadata": {
    "collapsed": false,
    "ExecuteTime": {
     "end_time": "2023-12-04T22:00:28.054887Z",
     "start_time": "2023-12-04T22:00:28.047810Z"
    }
   },
   "id": "591b7a9cca6927a"
  },
  {
   "cell_type": "code",
   "execution_count": null,
   "outputs": [],
   "source": [],
   "metadata": {
    "collapsed": false
   },
   "id": "839e2493fbb89880"
  }
 ],
 "metadata": {
  "kernelspec": {
   "display_name": "Python 3",
   "language": "python",
   "name": "python3"
  },
  "language_info": {
   "codemirror_mode": {
    "name": "ipython",
    "version": 2
   },
   "file_extension": ".py",
   "mimetype": "text/x-python",
   "name": "python",
   "nbconvert_exporter": "python",
   "pygments_lexer": "ipython2",
   "version": "2.7.6"
  }
 },
 "nbformat": 4,
 "nbformat_minor": 5
}
