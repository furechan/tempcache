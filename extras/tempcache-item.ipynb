{
 "cells": [
  {
   "cell_type": "code",
   "execution_count": 84,
   "outputs": [],
   "source": [
    "import logging\n",
    "\n",
    "from tempcache import TempCache\n",
    "\n",
    "logging.basicConfig()\n",
    "logging.getLogger(\"tempcache\").setLevel(\"DEBUG\")\n"
   ],
   "metadata": {
    "collapsed": false,
    "ExecuteTime": {
     "end_time": "2023-12-04T14:48:37.323485Z",
     "start_time": "2023-12-04T14:48:37.307595Z"
    }
   }
  },
  {
   "cell_type": "code",
   "execution_count": 85,
   "outputs": [
    {
     "data": {
      "text/plain": "<tempcache.caching.TempCache at 0x106c4bd60>"
     },
     "execution_count": 85,
     "metadata": {},
     "output_type": "execute_result"
    }
   ],
   "source": [
    "cache = TempCache(\"tempcache\")\n",
    "cache"
   ],
   "metadata": {
    "collapsed": false,
    "ExecuteTime": {
     "end_time": "2023-12-04T14:48:38.545480Z",
     "start_time": "2023-12-04T14:48:38.531381Z"
    }
   }
  },
  {
   "cell_type": "code",
   "execution_count": 86,
   "outputs": [
    {
     "data": {
      "text/plain": "0"
     },
     "execution_count": 86,
     "metadata": {},
     "output_type": "execute_result"
    }
   ],
   "source": [
    "cache.clear_items(True)"
   ],
   "metadata": {
    "collapsed": false,
    "ExecuteTime": {
     "end_time": "2023-12-04T14:48:49.532890Z",
     "start_time": "2023-12-04T14:48:49.518224Z"
    }
   }
  },
  {
   "cell_type": "code",
   "execution_count": 87,
   "outputs": [
    {
     "data": {
      "text/plain": "<tempcache.caching.CacheItem at 0x106d85850>"
     },
     "execution_count": 87,
     "metadata": {},
     "output_type": "execute_result"
    }
   ],
   "source": [
    "key = (\"aaaa\", )\n",
    "item = cache.item_for_key(key)\n",
    "item"
   ],
   "metadata": {
    "collapsed": false,
    "ExecuteTime": {
     "end_time": "2023-12-04T14:48:50.021086Z",
     "start_time": "2023-12-04T14:48:50.011293Z"
    }
   }
  },
  {
   "cell_type": "code",
   "execution_count": 88,
   "outputs": [
    {
     "name": "stderr",
     "output_type": "stream",
     "text": [
      "DEBUG:tempcache.caching:saving tempcache-4d7c1212ef3a71e43a451e6cb33ac973.tmp ...\n"
     ]
    }
   ],
   "source": [
    "value = \"ASDF\"\n",
    "item.save(value)"
   ],
   "metadata": {
    "collapsed": false,
    "ExecuteTime": {
     "end_time": "2023-12-04T14:48:59.419782Z",
     "start_time": "2023-12-04T14:48:59.405775Z"
    }
   }
  },
  {
   "cell_type": "code",
   "execution_count": 89,
   "outputs": [
    {
     "name": "stderr",
     "output_type": "stream",
     "text": [
      "DEBUG:tempcache.caching:loading tempcache-4d7c1212ef3a71e43a451e6cb33ac973.tmp ...\n"
     ]
    },
    {
     "data": {
      "text/plain": "KeyValuePair(key='ASDF', value='ASDF')"
     },
     "execution_count": 89,
     "metadata": {},
     "output_type": "execute_result"
    }
   ],
   "source": [
    "item.load()"
   ],
   "metadata": {
    "collapsed": false,
    "ExecuteTime": {
     "end_time": "2023-12-04T14:49:00.665087Z",
     "start_time": "2023-12-04T14:49:00.647253Z"
    }
   }
  },
  {
   "cell_type": "code",
   "execution_count": 81,
   "outputs": [
    {
     "name": "stdout",
     "output_type": "stream",
     "text": [
      "tempcache-4d7c1212ef3a71e43a451e6cb33ac973.tmp\n"
     ]
    }
   ],
   "source": [
    "for item in cache.items():\n",
    "    print(item)"
   ],
   "metadata": {
    "collapsed": false,
    "ExecuteTime": {
     "end_time": "2023-12-04T14:47:48.671837Z",
     "start_time": "2023-12-04T14:47:48.659607Z"
    }
   }
  },
  {
   "cell_type": "code",
   "execution_count": 82,
   "outputs": [
    {
     "name": "stderr",
     "output_type": "stream",
     "text": [
      "DEBUG:tempcache.caching:deleting tempcache-4d7c1212ef3a71e43a451e6cb33ac973.tmp ...\n"
     ]
    },
    {
     "data": {
      "text/plain": "1"
     },
     "execution_count": 82,
     "metadata": {},
     "output_type": "execute_result"
    }
   ],
   "source": [
    "cache.clear_items(True)"
   ],
   "metadata": {
    "collapsed": false,
    "ExecuteTime": {
     "end_time": "2023-12-04T14:47:49.511152Z",
     "start_time": "2023-12-04T14:47:49.496191Z"
    }
   }
  },
  {
   "cell_type": "code",
   "execution_count": 66,
   "outputs": [],
   "source": [],
   "metadata": {
    "collapsed": false,
    "ExecuteTime": {
     "end_time": "2023-12-03T23:11:13.065861Z",
     "start_time": "2023-12-03T23:11:13.059878Z"
    }
   }
  },
  {
   "cell_type": "code",
   "execution_count": null,
   "outputs": [],
   "source": [],
   "metadata": {
    "collapsed": false
   }
  }
 ],
 "metadata": {
  "kernelspec": {
   "display_name": "Python 3",
   "language": "python",
   "name": "python3"
  },
  "language_info": {
   "codemirror_mode": {
    "name": "ipython",
    "version": 2
   },
   "file_extension": ".py",
   "mimetype": "text/x-python",
   "name": "python",
   "nbconvert_exporter": "python",
   "pygments_lexer": "ipython2",
   "version": "2.7.6"
  }
 },
 "nbformat": 4,
 "nbformat_minor": 0
}
