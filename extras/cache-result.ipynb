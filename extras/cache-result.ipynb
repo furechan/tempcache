{
 "cells": [
  {
   "cell_type": "code",
   "execution_count": 8,
   "outputs": [],
   "source": [
    "import os\n",
    "import base64\n",
    "import logging\n",
    "import shutil\n",
    "\n",
    "import cloudpickle\n",
    "\n",
    "from tempcache import TempCache\n",
    "\n",
    "logging.basicConfig()\n",
    "logging.getLogger(\"tempcache\").setLevel(logging.DEBUG)"
   ],
   "metadata": {
    "collapsed": false,
    "ExecuteTime": {
     "end_time": "2023-12-27T19:31:40.696269Z",
     "start_time": "2023-12-27T19:31:40.683578Z"
    }
   }
  },
  {
   "cell_type": "code",
   "execution_count": 9,
   "outputs": [
    {
     "data": {
      "text/plain": "'sample-bSCNXFrW3wJvS1oEaCvt2u5TGudQ2o86/Okm08l7pMQ='"
     },
     "execution_count": 9,
     "metadata": {},
     "output_type": "execute_result"
    }
   ],
   "source": [
    "def sample_data(prefix=\"sample\", *, size=32):\n",
    "    logging.debug(\"generating sample of size %d\", size)\n",
    "    data = os.urandom(size)\n",
    "    data = base64.b64encode(data)\n",
    "    data = data.decode(\"utf-8\")\n",
    "    result = prefix + \"-\" + data\n",
    "    return result\n",
    "\n",
    "\n",
    "sample_data()"
   ],
   "metadata": {
    "collapsed": false,
    "ExecuteTime": {
     "end_time": "2023-12-27T19:31:40.995537Z",
     "start_time": "2023-12-27T19:31:40.983892Z"
    }
   }
  },
  {
   "cell_type": "code",
   "execution_count": 10,
   "outputs": [
    {
     "data": {
      "text/plain": "TempCache('tempcache')"
     },
     "execution_count": 10,
     "metadata": {},
     "output_type": "execute_result"
    }
   ],
   "source": [
    "cache = TempCache(pickler=cloudpickle)\n",
    "cache"
   ],
   "metadata": {
    "collapsed": false,
    "ExecuteTime": {
     "end_time": "2023-12-27T19:31:41.205799Z",
     "start_time": "2023-12-27T19:31:41.194930Z"
    }
   }
  },
  {
   "cell_type": "code",
   "execution_count": 11,
   "outputs": [],
   "source": [
    "assert cache.path.name == \"tempcache\"\n",
    "\n",
    "if cache.path.exists():\n",
    "    shutil.rmtree(cache.path)"
   ],
   "metadata": {
    "collapsed": false,
    "ExecuteTime": {
     "end_time": "2023-12-27T19:31:41.409154Z",
     "start_time": "2023-12-27T19:31:41.401035Z"
    }
   }
  },
  {
   "cell_type": "code",
   "outputs": [
    {
     "data": {
      "text/plain": "0"
     },
     "execution_count": 12,
     "metadata": {},
     "output_type": "execute_result"
    }
   ],
   "source": [
    "cache.clear_items(True)"
   ],
   "metadata": {
    "collapsed": false,
    "ExecuteTime": {
     "end_time": "2023-12-27T19:31:41.635199Z",
     "start_time": "2023-12-27T19:31:41.625534Z"
    }
   },
   "execution_count": 12
  },
  {
   "cell_type": "code",
   "execution_count": 13,
   "outputs": [
    {
     "name": "stderr",
     "output_type": "stream",
     "text": [
      "DEBUG:tempcache.caching:saving 41d13a8f031255738d6f323499a020bf.tmp\n",
      "DEBUG:tempcache.caching:loading 41d13a8f031255738d6f323499a020bf.tmp\n",
      "DEBUG:tempcache.caching:saving 33eb9e6f171b2af42ad255552396ac24.tmp\n",
      "DEBUG:tempcache.caching:loading 41d13a8f031255738d6f323499a020bf.tmp\n",
      "DEBUG:tempcache.caching:loading 41d13a8f031255738d6f323499a020bf.tmp\n",
      "DEBUG:tempcache.caching:loading 33eb9e6f171b2af42ad255552396ac24.tmp\n"
     ]
    },
    {
     "name": "stdout",
     "output_type": "stream",
     "text": [
      "50\n"
     ]
    }
   ],
   "source": [
    "res = cache.cache_result(sample_data)\n",
    "res = cache.cache_result(sample_data, \"sample\")\n",
    "res = cache.cache_result(sample_data, \"other\")\n",
    "res = cache.cache_result(sample_data)\n",
    "res = cache.cache_result(sample_data, \"sample\")\n",
    "res = cache.cache_result(sample_data, \"other\")\n",
    "\n",
    "\n",
    "print(len(res))"
   ],
   "metadata": {
    "collapsed": false,
    "ExecuteTime": {
     "end_time": "2023-12-27T19:31:42.008633Z",
     "start_time": "2023-12-27T19:31:41.998049Z"
    }
   }
  },
  {
   "cell_type": "code",
   "execution_count": 14,
   "outputs": [
    {
     "name": "stderr",
     "output_type": "stream",
     "text": [
      "DEBUG:tempcache.caching:deleting 33eb9e6f171b2af42ad255552396ac24.tmp\n",
      "DEBUG:tempcache.caching:deleting 41d13a8f031255738d6f323499a020bf.tmp\n"
     ]
    },
    {
     "data": {
      "text/plain": "2"
     },
     "execution_count": 14,
     "metadata": {},
     "output_type": "execute_result"
    }
   ],
   "source": [
    "cache.clear_items(True)"
   ],
   "metadata": {
    "collapsed": false,
    "ExecuteTime": {
     "end_time": "2023-12-27T19:31:42.317540Z",
     "start_time": "2023-12-27T19:31:42.306337Z"
    }
   }
  },
  {
   "cell_type": "code",
   "execution_count": 14,
   "outputs": [],
   "source": [],
   "metadata": {
    "collapsed": false,
    "ExecuteTime": {
     "end_time": "2023-12-27T19:31:42.720983Z",
     "start_time": "2023-12-27T19:31:42.719580Z"
    }
   }
  },
  {
   "cell_type": "code",
   "outputs": [],
   "source": [],
   "metadata": {
    "collapsed": false
   },
   "execution_count": null
  }
 ],
 "metadata": {
  "kernelspec": {
   "display_name": "Python 3",
   "language": "python",
   "name": "python3"
  },
  "language_info": {
   "codemirror_mode": {
    "name": "ipython",
    "version": 2
   },
   "file_extension": ".py",
   "mimetype": "text/x-python",
   "name": "python",
   "nbconvert_exporter": "python",
   "pygments_lexer": "ipython2",
   "version": "2.7.6"
  }
 },
 "nbformat": 4,
 "nbformat_minor": 0
}