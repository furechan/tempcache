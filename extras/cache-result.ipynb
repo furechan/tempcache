{
 "cells": [
  {
   "cell_type": "code",
   "execution_count": 16,
   "outputs": [],
   "source": [
    "import os\n",
    "import base64\n",
    "import logging\n",
    "import shutil\n",
    "\n",
    "import cloudpickle\n",
    "\n",
    "from tempcache import TempCache\n",
    "\n",
    "logging.basicConfig()\n",
    "logging.getLogger(\"tempcache\").setLevel(logging.DEBUG)\n"
   ],
   "metadata": {
    "collapsed": false,
    "ExecuteTime": {
     "end_time": "2023-12-27T19:13:30.501384Z",
     "start_time": "2023-12-27T19:13:30.487504Z"
    }
   }
  },
  {
   "cell_type": "code",
   "execution_count": 17,
   "outputs": [
    {
     "data": {
      "text/plain": "'sample-LT0mLrMc0JtEAeMj7Zvl73cEKc5xwNsQnzEogEHzwC0='"
     },
     "execution_count": 17,
     "metadata": {},
     "output_type": "execute_result"
    }
   ],
   "source": [
    "def sample_data(prefix=\"sample\", *, size=32):\n",
    "    logging.debug(\"generating sample of size %d\", size)\n",
    "    data = os.urandom(size)\n",
    "    data = base64.b64encode(data)\n",
    "    data = data.decode(\"utf-8\")\n",
    "    result = prefix + \"-\" + data \n",
    "    return result\n",
    "\n",
    "sample_data()"
   ],
   "metadata": {
    "collapsed": false,
    "ExecuteTime": {
     "end_time": "2023-12-27T19:13:30.674322Z",
     "start_time": "2023-12-27T19:13:30.661628Z"
    }
   }
  },
  {
   "cell_type": "code",
   "execution_count": 18,
   "outputs": [
    {
     "data": {
      "text/plain": "TempCache('tempcache')"
     },
     "execution_count": 18,
     "metadata": {},
     "output_type": "execute_result"
    }
   ],
   "source": [
    "cache = TempCache(pickler=cloudpickle)\n",
    "cache"
   ],
   "metadata": {
    "collapsed": false,
    "ExecuteTime": {
     "end_time": "2023-12-27T19:13:30.858662Z",
     "start_time": "2023-12-27T19:13:30.845317Z"
    }
   }
  },
  {
   "cell_type": "code",
   "execution_count": 19,
   "outputs": [],
   "source": [
    "assert cache.path.name == 'tempcache'\n",
    "\n",
    "if cache.path.exists():\n",
    "    shutil.rmtree(cache.path)"
   ],
   "metadata": {
    "collapsed": false,
    "ExecuteTime": {
     "end_time": "2023-12-27T19:13:31.034521Z",
     "start_time": "2023-12-27T19:13:31.025645Z"
    }
   }
  },
  {
   "cell_type": "code",
   "outputs": [
    {
     "data": {
      "text/plain": "0"
     },
     "execution_count": 20,
     "metadata": {},
     "output_type": "execute_result"
    }
   ],
   "source": [
    "cache.clear_items(True)\n"
   ],
   "metadata": {
    "collapsed": false,
    "ExecuteTime": {
     "end_time": "2023-12-27T19:13:31.240038Z",
     "start_time": "2023-12-27T19:13:31.229735Z"
    }
   },
   "execution_count": 20
  },
  {
   "cell_type": "code",
   "execution_count": 21,
   "outputs": [
    {
     "name": "stderr",
     "output_type": "stream",
     "text": [
      "DEBUG:tempcache.caching:saving 41d13a8f031255738d6f323499a020bf.tmp\n",
      "DEBUG:tempcache.caching:loading 41d13a8f031255738d6f323499a020bf.tmp\n",
      "DEBUG:tempcache.caching:saving 33eb9e6f171b2af42ad255552396ac24.tmp\n",
      "DEBUG:tempcache.caching:loading 41d13a8f031255738d6f323499a020bf.tmp\n",
      "DEBUG:tempcache.caching:loading 41d13a8f031255738d6f323499a020bf.tmp\n",
      "DEBUG:tempcache.caching:loading 33eb9e6f171b2af42ad255552396ac24.tmp\n"
     ]
    },
    {
     "name": "stdout",
     "output_type": "stream",
     "text": [
      "50\n"
     ]
    }
   ],
   "source": [
    "res = cache.cache_result(sample_data)\n",
    "res = cache.cache_result(sample_data, \"sample\")\n",
    "res = cache.cache_result(sample_data, \"other\")\n",
    "res = cache.cache_result(sample_data)\n",
    "res = cache.cache_result(sample_data, \"sample\")\n",
    "res = cache.cache_result(sample_data, \"other\")\n",
    "\n",
    "\n",
    "print(len(res))"
   ],
   "metadata": {
    "collapsed": false,
    "ExecuteTime": {
     "end_time": "2023-12-27T19:13:31.584570Z",
     "start_time": "2023-12-27T19:13:31.572633Z"
    }
   }
  },
  {
   "cell_type": "code",
   "execution_count": 22,
   "outputs": [
    {
     "name": "stderr",
     "output_type": "stream",
     "text": [
      "DEBUG:tempcache.caching:deleting 33eb9e6f171b2af42ad255552396ac24.tmp\n",
      "DEBUG:tempcache.caching:deleting 41d13a8f031255738d6f323499a020bf.tmp\n"
     ]
    },
    {
     "data": {
      "text/plain": "2"
     },
     "execution_count": 22,
     "metadata": {},
     "output_type": "execute_result"
    }
   ],
   "source": [
    "cache.clear_items(True)"
   ],
   "metadata": {
    "collapsed": false,
    "ExecuteTime": {
     "end_time": "2023-12-27T19:13:31.915564Z",
     "start_time": "2023-12-27T19:13:31.901488Z"
    }
   }
  },
  {
   "cell_type": "code",
   "execution_count": 22,
   "outputs": [],
   "source": [],
   "metadata": {
    "collapsed": false,
    "ExecuteTime": {
     "end_time": "2023-12-27T19:13:32.266947Z",
     "start_time": "2023-12-27T19:13:32.264125Z"
    }
   }
  },
  {
   "cell_type": "code",
   "outputs": [],
   "source": [],
   "metadata": {
    "collapsed": false
   }
  }
 ],
 "metadata": {
  "kernelspec": {
   "display_name": "Python 3",
   "language": "python",
   "name": "python3"
  },
  "language_info": {
   "codemirror_mode": {
    "name": "ipython",
    "version": 2
   },
   "file_extension": ".py",
   "mimetype": "text/x-python",
   "name": "python",
   "nbconvert_exporter": "python",
   "pygments_lexer": "ipython2",
   "version": "2.7.6"
  }
 },
 "nbformat": 4,
 "nbformat_minor": 0
}
