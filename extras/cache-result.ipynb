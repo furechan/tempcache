{
 "cells": [
  {
   "cell_type": "code",
   "execution_count": 13,
   "metadata": {
    "ExecuteTime": {
     "end_time": "2023-12-27T19:31:40.696269Z",
     "start_time": "2023-12-27T19:31:40.683578Z"
    },
    "collapsed": false
   },
   "outputs": [],
   "source": [
    "import os\n",
    "import base64\n",
    "import logging\n",
    "\n",
    "import cloudpickle\n",
    "\n",
    "from tempcache import TempCache\n",
    "\n",
    "logging.basicConfig()\n",
    "logging.getLogger().setLevel(logging.DEBUG)"
   ]
  },
  {
   "cell_type": "code",
   "execution_count": 14,
   "metadata": {
    "ExecuteTime": {
     "end_time": "2023-12-27T19:31:40.995537Z",
     "start_time": "2023-12-27T19:31:40.983892Z"
    },
    "collapsed": false
   },
   "outputs": [
    {
     "name": "stderr",
     "output_type": "stream",
     "text": [
      "DEBUG:root:generating sample data sample, 32\n"
     ]
    },
    {
     "data": {
      "text/plain": [
       "'sample-pX3qqhH3XX06CAmfNTxzJw5q+7tCxkucE4LD9b0gROU='"
      ]
     },
     "execution_count": 14,
     "metadata": {},
     "output_type": "execute_result"
    }
   ],
   "source": [
    "def sample_data(prefix=\"sample\", *, size=32):\n",
    "    logging.debug(\"generating sample data %s, %d\", prefix, size)\n",
    "    data = os.urandom(size)\n",
    "    data = base64.b64encode(data)\n",
    "    data = data.decode(\"utf-8\")\n",
    "    result = prefix + \"-\" + data\n",
    "    return result\n",
    "\n",
    "\n",
    "sample_data()"
   ]
  },
  {
   "cell_type": "code",
   "execution_count": 15,
   "metadata": {
    "ExecuteTime": {
     "end_time": "2023-12-27T19:31:41.205799Z",
     "start_time": "2023-12-27T19:31:41.194930Z"
    },
    "collapsed": false
   },
   "outputs": [],
   "source": [
    "cache = TempCache(pickler=cloudpickle)\n",
    "cache\n",
    "\n",
    "!ls {cache.path}"
   ]
  },
  {
   "cell_type": "code",
   "execution_count": 16,
   "metadata": {
    "ExecuteTime": {
     "end_time": "2023-12-27T19:31:41.409154Z",
     "start_time": "2023-12-27T19:31:41.401035Z"
    },
    "collapsed": false
   },
   "outputs": [
    {
     "data": {
      "text/plain": [
       "0"
      ]
     },
     "execution_count": 16,
     "metadata": {},
     "output_type": "execute_result"
    }
   ],
   "source": [
    "assert cache.path.name == \"tempcache\"\n",
    "\n",
    "cache.clear_items(True)"
   ]
  },
  {
   "cell_type": "code",
   "execution_count": 17,
   "metadata": {
    "ExecuteTime": {
     "end_time": "2023-12-27T19:31:41.635199Z",
     "start_time": "2023-12-27T19:31:41.625534Z"
    },
    "collapsed": false
   },
   "outputs": [
    {
     "data": {
      "text/plain": [
       "0"
      ]
     },
     "execution_count": 17,
     "metadata": {},
     "output_type": "execute_result"
    }
   ],
   "source": [
    "cache.clear_items(True)"
   ]
  },
  {
   "cell_type": "code",
   "execution_count": 18,
   "metadata": {
    "ExecuteTime": {
     "end_time": "2023-12-27T19:31:42.008633Z",
     "start_time": "2023-12-27T19:31:41.998049Z"
    },
    "collapsed": false
   },
   "outputs": [
    {
     "name": "stderr",
     "output_type": "stream",
     "text": [
      "DEBUG:root:generating sample data sample, 32\n",
      "DEBUG:tempcache.caching:saving /var/folders/c3/54m9yxns31905dkkhzl115lw0000gn/T/tempcache/44119d07da37140fae79869ca7ce3fcb.tmp\n"
     ]
    }
   ],
   "source": [
    "res = cache.cache_result(sample_data)\n",
    "\n"
   ]
  },
  {
   "cell_type": "code",
   "execution_count": 19,
   "metadata": {},
   "outputs": [
    {
     "name": "stderr",
     "output_type": "stream",
     "text": [
      "DEBUG:tempcache.caching:Loading /var/folders/c3/54m9yxns31905dkkhzl115lw0000gn/T/tempcache/44119d07da37140fae79869ca7ce3fcb.tmp\n"
     ]
    }
   ],
   "source": [
    "res = cache.cache_result(sample_data, \"sample\")\n"
   ]
  },
  {
   "cell_type": "code",
   "execution_count": 20,
   "metadata": {},
   "outputs": [
    {
     "name": "stderr",
     "output_type": "stream",
     "text": [
      "DEBUG:root:generating sample data other, 32\n",
      "DEBUG:tempcache.caching:saving /var/folders/c3/54m9yxns31905dkkhzl115lw0000gn/T/tempcache/df334fd07a9e76fd9a25ef660174c35b.tmp\n",
      "DEBUG:tempcache.caching:Loading /var/folders/c3/54m9yxns31905dkkhzl115lw0000gn/T/tempcache/44119d07da37140fae79869ca7ce3fcb.tmp\n",
      "DEBUG:tempcache.caching:Loading /var/folders/c3/54m9yxns31905dkkhzl115lw0000gn/T/tempcache/44119d07da37140fae79869ca7ce3fcb.tmp\n",
      "DEBUG:tempcache.caching:Loading /var/folders/c3/54m9yxns31905dkkhzl115lw0000gn/T/tempcache/df334fd07a9e76fd9a25ef660174c35b.tmp\n"
     ]
    },
    {
     "name": "stdout",
     "output_type": "stream",
     "text": [
      "50\n"
     ]
    }
   ],
   "source": [
    "\n",
    "res = cache.cache_result(sample_data, \"other\")\n",
    "res = cache.cache_result(sample_data)\n",
    "res = cache.cache_result(sample_data, \"sample\")\n",
    "res = cache.cache_result(sample_data, \"other\")\n",
    "\n",
    "\n",
    "print(len(res))"
   ]
  },
  {
   "cell_type": "code",
   "execution_count": 21,
   "metadata": {
    "ExecuteTime": {
     "end_time": "2023-12-27T19:31:42.317540Z",
     "start_time": "2023-12-27T19:31:42.306337Z"
    },
    "collapsed": false
   },
   "outputs": [
    {
     "name": "stderr",
     "output_type": "stream",
     "text": [
      "DEBUG:tempcache.caching:Deleting /var/folders/c3/54m9yxns31905dkkhzl115lw0000gn/T/tempcache/df334fd07a9e76fd9a25ef660174c35b.tmp\n",
      "DEBUG:tempcache.caching:Deleting /var/folders/c3/54m9yxns31905dkkhzl115lw0000gn/T/tempcache/44119d07da37140fae79869ca7ce3fcb.tmp\n"
     ]
    },
    {
     "data": {
      "text/plain": [
       "2"
      ]
     },
     "execution_count": 21,
     "metadata": {},
     "output_type": "execute_result"
    }
   ],
   "source": [
    "cache.clear_items(True)"
   ]
  },
  {
   "cell_type": "code",
   "execution_count": null,
   "metadata": {
    "ExecuteTime": {
     "end_time": "2023-12-27T19:31:42.720983Z",
     "start_time": "2023-12-27T19:31:42.719580Z"
    },
    "collapsed": false
   },
   "outputs": [],
   "source": []
  },
  {
   "cell_type": "code",
   "execution_count": null,
   "metadata": {
    "collapsed": false
   },
   "outputs": [],
   "source": []
  }
 ],
 "metadata": {
  "kernelspec": {
   "display_name": ".venv",
   "language": "python",
   "name": "python3"
  },
  "language_info": {
   "codemirror_mode": {
    "name": "ipython",
    "version": 3
   },
   "file_extension": ".py",
   "mimetype": "text/x-python",
   "name": "python",
   "nbconvert_exporter": "python",
   "pygments_lexer": "ipython3",
   "version": "3.9.20"
  }
 },
 "nbformat": 4,
 "nbformat_minor": 0
}
