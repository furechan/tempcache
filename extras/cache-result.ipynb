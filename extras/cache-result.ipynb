{
 "cells": [
  {
   "cell_type": "code",
   "execution_count": 116,
   "outputs": [],
   "source": [
    "import base64\n",
    "import logging\n",
    "import shutil\n",
    "\n",
    "import cloudpickle\n",
    "\n",
    "from random import Random\n",
    "from tempcache import TempCache\n",
    "\n",
    "logging.basicConfig()\n",
    "logging.getLogger(\"tempcache\").setLevel(logging.DEBUG)\n"
   ],
   "metadata": {
    "collapsed": false,
    "ExecuteTime": {
     "end_time": "2023-12-27T18:50:02.701774Z",
     "start_time": "2023-12-27T18:50:02.689439Z"
    }
   }
  },
  {
   "cell_type": "code",
   "execution_count": 117,
   "outputs": [
    {
     "data": {
      "text/plain": "'zQcs2L5vn2KsTAnCggbn41WUqms0L10KOl5IQvq0KPc='"
     },
     "execution_count": 117,
     "metadata": {},
     "output_type": "execute_result"
    }
   ],
   "source": [
    "def sample_data(seed=0, size=32):\n",
    "    logging.debug(\"generating sample of size %d\", size)\n",
    "    data = Random(seed).randbytes(size)\n",
    "    data = base64.b64encode(data)\n",
    "    data = data.decode(\"utf-8\")\n",
    "    return data\n",
    "\n",
    "sample_data()"
   ],
   "metadata": {
    "collapsed": false,
    "ExecuteTime": {
     "end_time": "2023-12-27T18:50:02.917350Z",
     "start_time": "2023-12-27T18:50:02.906363Z"
    }
   }
  },
  {
   "cell_type": "code",
   "execution_count": 118,
   "outputs": [
    {
     "data": {
      "text/plain": "TempCache('tempcache')"
     },
     "execution_count": 118,
     "metadata": {},
     "output_type": "execute_result"
    }
   ],
   "source": [
    "cache = TempCache(pickler=cloudpickle)\n",
    "cache"
   ],
   "metadata": {
    "collapsed": false,
    "ExecuteTime": {
     "end_time": "2023-12-27T18:50:03.437977Z",
     "start_time": "2023-12-27T18:50:03.428584Z"
    }
   }
  },
  {
   "cell_type": "code",
   "execution_count": 119,
   "outputs": [],
   "source": [
    "assert cache.path.name == 'tempcache'\n",
    "\n",
    "if cache.path.exists():\n",
    "    shutil.rmtree(cache.path)"
   ],
   "metadata": {
    "collapsed": false,
    "ExecuteTime": {
     "end_time": "2023-12-27T18:50:03.804118Z",
     "start_time": "2023-12-27T18:50:03.797958Z"
    }
   }
  },
  {
   "cell_type": "code",
   "outputs": [
    {
     "data": {
      "text/plain": "0"
     },
     "execution_count": 120,
     "metadata": {},
     "output_type": "execute_result"
    }
   ],
   "source": [
    "cache.clear_items(True)\n"
   ],
   "metadata": {
    "collapsed": false,
    "ExecuteTime": {
     "end_time": "2023-12-27T18:50:04.138977Z",
     "start_time": "2023-12-27T18:50:04.128632Z"
    }
   },
   "execution_count": 120
  },
  {
   "cell_type": "code",
   "execution_count": 121,
   "outputs": [
    {
     "name": "stderr",
     "output_type": "stream",
     "text": [
      "DEBUG:tempcache.caching:saving e19da19b1b643b0ef6735400fca86d48.tmp\n",
      "DEBUG:tempcache.caching:loading e19da19b1b643b0ef6735400fca86d48.tmp\n",
      "DEBUG:tempcache.caching:saving 09a791905bb15c232ec8cadd9b425111.tmp\n",
      "DEBUG:tempcache.caching:loading e19da19b1b643b0ef6735400fca86d48.tmp\n",
      "DEBUG:tempcache.caching:loading e19da19b1b643b0ef6735400fca86d48.tmp\n",
      "DEBUG:tempcache.caching:loading 09a791905bb15c232ec8cadd9b425111.tmp\n"
     ]
    },
    {
     "name": "stdout",
     "output_type": "stream",
     "text": [
      "44\n"
     ]
    }
   ],
   "source": [
    "res = cache.cache_result(sample_data)\n",
    "res = cache.cache_result(sample_data, 0)\n",
    "res = cache.cache_result(sample_data, 1)\n",
    "res = cache.cache_result(sample_data)\n",
    "res = cache.cache_result(sample_data, 0)\n",
    "res = cache.cache_result(sample_data, 1)\n",
    "\n",
    "\n",
    "print(len(res))"
   ],
   "metadata": {
    "collapsed": false,
    "ExecuteTime": {
     "end_time": "2023-12-27T18:50:04.594446Z",
     "start_time": "2023-12-27T18:50:04.580170Z"
    }
   }
  },
  {
   "cell_type": "code",
   "execution_count": 122,
   "outputs": [
    {
     "name": "stderr",
     "output_type": "stream",
     "text": [
      "DEBUG:tempcache.caching:deleting 09a791905bb15c232ec8cadd9b425111.tmp\n",
      "DEBUG:tempcache.caching:deleting e19da19b1b643b0ef6735400fca86d48.tmp\n"
     ]
    },
    {
     "data": {
      "text/plain": "2"
     },
     "execution_count": 122,
     "metadata": {},
     "output_type": "execute_result"
    }
   ],
   "source": [
    "cache.clear_items(True)"
   ],
   "metadata": {
    "collapsed": false,
    "ExecuteTime": {
     "end_time": "2023-12-27T18:50:05.373586Z",
     "start_time": "2023-12-27T18:50:05.358836Z"
    }
   }
  },
  {
   "cell_type": "code",
   "execution_count": 113,
   "outputs": [],
   "source": [],
   "metadata": {
    "collapsed": false,
    "ExecuteTime": {
     "end_time": "2023-12-27T18:49:50.707651Z",
     "start_time": "2023-12-27T18:49:50.703962Z"
    }
   }
  },
  {
   "cell_type": "code",
   "outputs": [],
   "source": [],
   "metadata": {
    "collapsed": false
   }
  }
 ],
 "metadata": {
  "kernelspec": {
   "display_name": "Python 3",
   "language": "python",
   "name": "python3"
  },
  "language_info": {
   "codemirror_mode": {
    "name": "ipython",
    "version": 2
   },
   "file_extension": ".py",
   "mimetype": "text/x-python",
   "name": "python",
   "nbconvert_exporter": "python",
   "pygments_lexer": "ipython2",
   "version": "2.7.6"
  }
 },
 "nbformat": 4,
 "nbformat_minor": 0
}
