{
 "cells": [
  {
   "cell_type": "code",
   "execution_count": 1,
   "outputs": [],
   "source": [
    "import os\n",
    "import base64\n",
    "import logging\n",
    "import shutil\n",
    "\n",
    "import cloudpickle\n",
    "\n",
    "from tempcache import TempCache\n",
    "\n",
    "logging.basicConfig()\n",
    "logging.getLogger(\"tempcache\").setLevel(logging.DEBUG)\n"
   ],
   "metadata": {
    "collapsed": false,
    "ExecuteTime": {
     "end_time": "2023-12-27T19:27:44.517885Z",
     "start_time": "2023-12-27T19:27:44.507173Z"
    }
   }
  },
  {
   "cell_type": "code",
   "execution_count": 2,
   "outputs": [
    {
     "data": {
      "text/plain": "'sample-WwL9mZD3Oqa0H8ax0O9EYPCNKlEJ1z4YAfl/0AQdjTs='"
     },
     "execution_count": 2,
     "metadata": {},
     "output_type": "execute_result"
    }
   ],
   "source": [
    "def sample_data(prefix=\"sample\", *, size=32):\n",
    "    logging.debug(\"generating sample of size %d\", size)\n",
    "    data = os.urandom(size)\n",
    "    data = base64.b64encode(data)\n",
    "    data = data.decode(\"utf-8\")\n",
    "    result = prefix + \"-\" + data \n",
    "    return result\n",
    "\n",
    "sample_data()"
   ],
   "metadata": {
    "collapsed": false,
    "ExecuteTime": {
     "end_time": "2023-12-27T19:27:45.177764Z",
     "start_time": "2023-12-27T19:27:45.163191Z"
    }
   }
  },
  {
   "cell_type": "code",
   "execution_count": 3,
   "outputs": [
    {
     "data": {
      "text/plain": "TempCache('tempcache')"
     },
     "execution_count": 3,
     "metadata": {},
     "output_type": "execute_result"
    }
   ],
   "source": [
    "cache = TempCache(pickler=cloudpickle)\n",
    "cache"
   ],
   "metadata": {
    "collapsed": false,
    "ExecuteTime": {
     "end_time": "2023-12-27T19:27:45.688300Z",
     "start_time": "2023-12-27T19:27:45.680037Z"
    }
   }
  },
  {
   "cell_type": "code",
   "execution_count": 4,
   "outputs": [],
   "source": [
    "assert cache.path.name == 'tempcache'\n",
    "\n",
    "if cache.path.exists():\n",
    "    shutil.rmtree(cache.path)"
   ],
   "metadata": {
    "collapsed": false,
    "ExecuteTime": {
     "end_time": "2023-12-27T19:27:46.098983Z",
     "start_time": "2023-12-27T19:27:46.091246Z"
    }
   }
  },
  {
   "cell_type": "code",
   "outputs": [
    {
     "data": {
      "text/plain": "0"
     },
     "execution_count": 5,
     "metadata": {},
     "output_type": "execute_result"
    }
   ],
   "source": [
    "cache.clear_items(True)\n"
   ],
   "metadata": {
    "collapsed": false,
    "ExecuteTime": {
     "end_time": "2023-12-27T19:27:46.564747Z",
     "start_time": "2023-12-27T19:27:46.550243Z"
    }
   },
   "execution_count": 5
  },
  {
   "cell_type": "code",
   "execution_count": 6,
   "outputs": [
    {
     "name": "stderr",
     "output_type": "stream",
     "text": [
      "DEBUG:tempcache.caching:saving 41d13a8f031255738d6f323499a020bf.tmp\n",
      "DEBUG:tempcache.caching:loading 41d13a8f031255738d6f323499a020bf.tmp\n",
      "DEBUG:tempcache.caching:saving 33eb9e6f171b2af42ad255552396ac24.tmp\n",
      "DEBUG:tempcache.caching:loading 41d13a8f031255738d6f323499a020bf.tmp\n",
      "DEBUG:tempcache.caching:loading 41d13a8f031255738d6f323499a020bf.tmp\n",
      "DEBUG:tempcache.caching:loading 33eb9e6f171b2af42ad255552396ac24.tmp\n"
     ]
    },
    {
     "name": "stdout",
     "output_type": "stream",
     "text": [
      "50\n"
     ]
    }
   ],
   "source": [
    "res = cache.cache_result(sample_data)\n",
    "res = cache.cache_result(sample_data, \"sample\")\n",
    "res = cache.cache_result(sample_data, \"other\")\n",
    "res = cache.cache_result(sample_data)\n",
    "res = cache.cache_result(sample_data, \"sample\")\n",
    "res = cache.cache_result(sample_data, \"other\")\n",
    "\n",
    "\n",
    "print(len(res))"
   ],
   "metadata": {
    "collapsed": false,
    "ExecuteTime": {
     "end_time": "2023-12-27T19:27:47.114368Z",
     "start_time": "2023-12-27T19:27:47.097696Z"
    }
   }
  },
  {
   "cell_type": "code",
   "execution_count": 7,
   "outputs": [
    {
     "name": "stderr",
     "output_type": "stream",
     "text": [
      "DEBUG:tempcache.caching:deleting 33eb9e6f171b2af42ad255552396ac24.tmp\n",
      "DEBUG:tempcache.caching:deleting 41d13a8f031255738d6f323499a020bf.tmp\n"
     ]
    },
    {
     "data": {
      "text/plain": "2"
     },
     "execution_count": 7,
     "metadata": {},
     "output_type": "execute_result"
    }
   ],
   "source": [
    "cache.clear_items(True)"
   ],
   "metadata": {
    "collapsed": false,
    "ExecuteTime": {
     "end_time": "2023-12-27T19:27:47.632066Z",
     "start_time": "2023-12-27T19:27:47.619065Z"
    }
   }
  },
  {
   "cell_type": "code",
   "execution_count": 29,
   "outputs": [],
   "source": [],
   "metadata": {
    "collapsed": false,
    "ExecuteTime": {
     "end_time": "2023-12-27T19:25:35.393517Z",
     "start_time": "2023-12-27T19:25:35.390329Z"
    }
   }
  },
  {
   "cell_type": "code",
   "outputs": [],
   "source": [],
   "metadata": {
    "collapsed": false
   }
  }
 ],
 "metadata": {
  "kernelspec": {
   "display_name": "Python 3",
   "language": "python",
   "name": "python3"
  },
  "language_info": {
   "codemirror_mode": {
    "name": "ipython",
    "version": 2
   },
   "file_extension": ".py",
   "mimetype": "text/x-python",
   "name": "python",
   "nbconvert_exporter": "python",
   "pygments_lexer": "ipython2",
   "version": "2.7.6"
  }
 },
 "nbformat": 4,
 "nbformat_minor": 0
}
