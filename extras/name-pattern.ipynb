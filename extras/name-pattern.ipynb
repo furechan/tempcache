{
 "cells": [
  {
   "cell_type": "code",
   "execution_count": 35,
   "id": "initial_id",
   "metadata": {
    "collapsed": true,
    "ExecuteTime": {
     "end_time": "2023-12-27T14:46:56.815491Z",
     "start_time": "2023-12-27T14:46:56.807707Z"
    }
   },
   "outputs": [],
   "source": [
    "import re\n",
    "\n",
    "pattern = r\"(^[A-Za-z_][A-Za-z0-9_]*)(\\.[A-Za-z_][A-Za-z0-9_]*)*$\""
   ]
  },
  {
   "cell_type": "code",
   "outputs": [
    {
     "name": "stdout",
     "output_type": "stream",
     "text": [
      "'aaaa' <re.Match object; span=(0, 4), match='aaaa'>\n",
      "'aaa.bbb' <re.Match object; span=(0, 7), match='aaa.bbb'>\n",
      "'_abcd' <re.Match object; span=(0, 5), match='_abcd'>\n",
      "'aaa/bbb' None\n",
      "'aaa-bbb' None\n",
      "'8fgh' None\n",
      "'.xyz' None\n"
     ]
    }
   ],
   "source": [
    "names = [\"aaaa\", \"aaa.bbb\", \"_abcd\", \"aaa/bbb\", \"aaa-bbb\", \"8fgh\", \".xyz\"]\n",
    "\n",
    "for name in names:\n",
    "    match = re.fullmatch(pattern, name)\n",
    "    print(repr(name), match) "
   ],
   "metadata": {
    "collapsed": false,
    "ExecuteTime": {
     "end_time": "2023-12-27T14:46:57.047408Z",
     "start_time": "2023-12-27T14:46:57.037025Z"
    }
   },
   "id": "5ea0dd811bc6b736",
   "execution_count": 36
  },
  {
   "cell_type": "code",
   "outputs": [],
   "source": [],
   "metadata": {
    "collapsed": false,
    "ExecuteTime": {
     "end_time": "2023-12-27T14:38:57.416377Z",
     "start_time": "2023-12-27T14:38:57.413875Z"
    }
   },
   "id": "e87a7ec4392fbe37",
   "execution_count": 29
  },
  {
   "cell_type": "code",
   "outputs": [],
   "source": [],
   "metadata": {
    "collapsed": false
   },
   "id": "bf9ed8217412bdb8"
  }
 ],
 "metadata": {
  "kernelspec": {
   "display_name": "Python 3",
   "language": "python",
   "name": "python3"
  },
  "language_info": {
   "codemirror_mode": {
    "name": "ipython",
    "version": 2
   },
   "file_extension": ".py",
   "mimetype": "text/x-python",
   "name": "python",
   "nbconvert_exporter": "python",
   "pygments_lexer": "ipython2",
   "version": "2.7.6"
  }
 },
 "nbformat": 4,
 "nbformat_minor": 5
}
