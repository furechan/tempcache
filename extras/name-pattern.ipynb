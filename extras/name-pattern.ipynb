{
 "cells": [
  {
   "cell_type": "code",
   "execution_count": 1,
   "id": "initial_id",
   "metadata": {
    "ExecuteTime": {
     "end_time": "2023-12-27T19:33:00.959347Z",
     "start_time": "2023-12-27T19:33:00.946942Z"
    },
    "collapsed": true
   },
   "outputs": [],
   "source": [
    "import re\n",
    "\n",
    "pattern = r\"(^[A-Za-z_][A-Za-z0-9_]*)(\\.[A-Za-z_][A-Za-z0-9_]*)*$\""
   ]
  },
  {
   "cell_type": "code",
   "execution_count": 2,
   "id": "5ea0dd811bc6b736",
   "metadata": {
    "ExecuteTime": {
     "end_time": "2023-12-27T19:33:01.405691Z",
     "start_time": "2023-12-27T19:33:01.392810Z"
    },
    "collapsed": false
   },
   "outputs": [
    {
     "name": "stdout",
     "output_type": "stream",
     "text": [
      "'aaaa' <re.Match object; span=(0, 4), match='aaaa'>\n",
      "'aaa.bbb' <re.Match object; span=(0, 7), match='aaa.bbb'>\n",
      "'_abcd' <re.Match object; span=(0, 5), match='_abcd'>\n",
      "'aaa/bbb' None\n",
      "'aaa-bbb' None\n",
      "'8fgh' None\n",
      "'.xyz' None\n"
     ]
    }
   ],
   "source": [
    "names = [\"aaaa\", \"aaa.bbb\", \"_abcd\", \"aaa/bbb\", \"aaa-bbb\", \"8fgh\", \".xyz\"]\n",
    "\n",
    "for name in names:\n",
    "    match = re.fullmatch(pattern, name)\n",
    "    print(repr(name), match)"
   ]
  },
  {
   "cell_type": "code",
   "execution_count": 4,
   "id": "e87a7ec4392fbe37",
   "metadata": {
    "ExecuteTime": {
     "end_time": "2023-12-27T19:31:46.864540Z",
     "start_time": "2023-12-27T19:31:46.861842Z"
    },
    "collapsed": false
   },
   "outputs": [],
   "source": []
  },
  {
   "cell_type": "code",
   "execution_count": null,
   "id": "bf9ed8217412bdb8",
   "metadata": {
    "collapsed": false
   },
   "outputs": [],
   "source": []
  }
 ],
 "metadata": {
  "kernelspec": {
   "display_name": ".venv",
   "language": "python",
   "name": "python3"
  },
  "language_info": {
   "codemirror_mode": {
    "name": "ipython",
    "version": 3
   },
   "file_extension": ".py",
   "mimetype": "text/x-python",
   "name": "python",
   "nbconvert_exporter": "python",
   "pygments_lexer": "ipython3",
   "version": "3.9.20"
  }
 },
 "nbformat": 4,
 "nbformat_minor": 5
}
