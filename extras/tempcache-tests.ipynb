{
 "cells": [
  {
   "cell_type": "code",
   "execution_count": 10,
   "outputs": [],
   "source": [
    "import logging\n",
    "\n",
    "import numpy as np\n",
    "import pandas as pd\n",
    "\n",
    "import cloudpickle\n",
    "\n",
    "from tempcache import TempCache\n",
    "\n",
    "logging.basicConfig()\n",
    "logging.getLogger(\"tempcache\").setLevel(logging.DEBUG)\n"
   ],
   "metadata": {
    "collapsed": false,
    "ExecuteTime": {
     "end_time": "2023-12-05T13:01:29.886874Z",
     "start_time": "2023-12-05T13:01:29.849089Z"
    }
   }
  },
  {
   "cell_type": "code",
   "execution_count": 11,
   "outputs": [],
   "source": [
    "COEF = 3.0\n",
    "\n",
    "def sample(size):\n",
    "    return np.arange(size) * COEF"
   ],
   "metadata": {
    "collapsed": false,
    "ExecuteTime": {
     "end_time": "2023-12-05T13:01:30.593656Z",
     "start_time": "2023-12-05T13:01:30.579127Z"
    }
   }
  },
  {
   "cell_type": "code",
   "execution_count": 12,
   "outputs": [
    {
     "data": {
      "text/plain": "0       0.0\n1       3.0\n2       6.0\n3       9.0\n4      12.0\n      ...  \n95    285.0\n96    288.0\n97    291.0\n98    294.0\n99    297.0\nName: sample, Length: 100, dtype: float64"
     },
     "execution_count": 12,
     "metadata": {},
     "output_type": "execute_result"
    }
   ],
   "source": [
    "def somefunc(size=100, *, name='sample'):\n",
    "    data = sample(size)\n",
    "    res = pd.Series(data, name=name)\n",
    "    return res\n",
    "\n",
    "somefunc()"
   ],
   "metadata": {
    "collapsed": false,
    "ExecuteTime": {
     "end_time": "2023-12-05T13:01:31.333659Z",
     "start_time": "2023-12-05T13:01:31.314897Z"
    }
   }
  },
  {
   "cell_type": "code",
   "execution_count": 13,
   "outputs": [
    {
     "data": {
      "text/plain": "<tempcache.caching.TempCache at 0x118f6cd90>"
     },
     "execution_count": 13,
     "metadata": {},
     "output_type": "execute_result"
    }
   ],
   "source": [
    "cache = TempCache(pickler=cloudpickle)\n",
    "cache"
   ],
   "metadata": {
    "collapsed": false,
    "ExecuteTime": {
     "end_time": "2023-12-05T13:01:32.298046Z",
     "start_time": "2023-12-05T13:01:32.277613Z"
    }
   }
  },
  {
   "cell_type": "code",
   "execution_count": 14,
   "outputs": [
    {
     "data": {
      "text/plain": "0"
     },
     "execution_count": 14,
     "metadata": {},
     "output_type": "execute_result"
    }
   ],
   "source": [
    "cache.clear_items(True)\n"
   ],
   "metadata": {
    "collapsed": false,
    "ExecuteTime": {
     "end_time": "2023-12-05T13:01:32.995492Z",
     "start_time": "2023-12-05T13:01:32.972401Z"
    }
   }
  },
  {
   "cell_type": "code",
   "execution_count": 15,
   "outputs": [
    {
     "name": "stderr",
     "output_type": "stream",
     "text": [
      "DEBUG:tempcache.caching:saving tempcache-0117f4b9cdb5a5417bc2012a8956f201.tmp\n",
      "DEBUG:tempcache.caching:loading tempcache-0117f4b9cdb5a5417bc2012a8956f201.tmp\n",
      "DEBUG:tempcache.caching:loading tempcache-0117f4b9cdb5a5417bc2012a8956f201.tmp\n",
      "DEBUG:tempcache.caching:saving tempcache-6e2ace0edf8e137d9c73b1a79574515e.tmp\n"
     ]
    },
    {
     "name": "stdout",
     "output_type": "stream",
     "text": [
      "200\n"
     ]
    }
   ],
   "source": [
    "res = cache.cache_result(somefunc)\n",
    "res = cache.cache_result(somefunc)\n",
    "res = cache.cache_result(somefunc, 100)\n",
    "res = cache.cache_result(somefunc, 200)\n",
    "print(len(res))"
   ],
   "metadata": {
    "collapsed": false,
    "ExecuteTime": {
     "end_time": "2023-12-05T13:01:33.810577Z",
     "start_time": "2023-12-05T13:01:33.792381Z"
    }
   }
  },
  {
   "cell_type": "code",
   "execution_count": 16,
   "outputs": [
    {
     "name": "stderr",
     "output_type": "stream",
     "text": [
      "DEBUG:tempcache.caching:loading tempcache-0117f4b9cdb5a5417bc2012a8956f201.tmp\n",
      "DEBUG:tempcache.caching:loading tempcache-0117f4b9cdb5a5417bc2012a8956f201.tmp\n",
      "DEBUG:tempcache.caching:loading tempcache-0117f4b9cdb5a5417bc2012a8956f201.tmp\n",
      "DEBUG:tempcache.caching:loading tempcache-6e2ace0edf8e137d9c73b1a79574515e.tmp\n"
     ]
    },
    {
     "name": "stdout",
     "output_type": "stream",
     "text": [
      "200\n"
     ]
    }
   ],
   "source": [
    "res = cache.cache_result(somefunc)\n",
    "res = cache.cache_result(somefunc)\n",
    "res = cache.cache_result(somefunc, 100)\n",
    "res = cache.cache_result(somefunc, 200)\n",
    "print(len(res))"
   ],
   "metadata": {
    "collapsed": false,
    "ExecuteTime": {
     "end_time": "2023-12-05T13:01:34.844962Z",
     "start_time": "2023-12-05T13:01:34.825554Z"
    }
   }
  },
  {
   "cell_type": "code",
   "execution_count": 17,
   "outputs": [
    {
     "name": "stderr",
     "output_type": "stream",
     "text": [
      "DEBUG:tempcache.caching:deleting tempcache-0117f4b9cdb5a5417bc2012a8956f201.tmp\n",
      "DEBUG:tempcache.caching:deleting tempcache-6e2ace0edf8e137d9c73b1a79574515e.tmp\n"
     ]
    },
    {
     "data": {
      "text/plain": "2"
     },
     "execution_count": 17,
     "metadata": {},
     "output_type": "execute_result"
    }
   ],
   "source": [
    "cache.clear_items(True)"
   ],
   "metadata": {
    "collapsed": false,
    "ExecuteTime": {
     "end_time": "2023-12-05T13:01:35.541952Z",
     "start_time": "2023-12-05T13:01:35.526174Z"
    }
   }
  },
  {
   "cell_type": "code",
   "execution_count": null,
   "outputs": [],
   "source": [],
   "metadata": {
    "collapsed": false
   }
  }
 ],
 "metadata": {
  "kernelspec": {
   "display_name": "Python 3",
   "language": "python",
   "name": "python3"
  },
  "language_info": {
   "codemirror_mode": {
    "name": "ipython",
    "version": 2
   },
   "file_extension": ".py",
   "mimetype": "text/x-python",
   "name": "python",
   "nbconvert_exporter": "python",
   "pygments_lexer": "ipython2",
   "version": "2.7.6"
  }
 },
 "nbformat": 4,
 "nbformat_minor": 0
}
