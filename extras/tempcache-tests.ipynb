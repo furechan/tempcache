{
 "cells": [
  {
   "cell_type": "code",
   "execution_count": 1,
   "outputs": [],
   "source": [
    "import logging\n",
    "\n",
    "import numpy as np\n",
    "import pandas as pd\n",
    "\n",
    "import cloudpickle\n",
    "\n",
    "from tempcache import TempCache\n",
    "\n",
    "logging.basicConfig()\n",
    "logging.getLogger(\"tempcache\").setLevel(logging.DEBUG)\n"
   ],
   "metadata": {
    "collapsed": false,
    "ExecuteTime": {
     "end_time": "2023-12-04T22:02:55.717350Z",
     "start_time": "2023-12-04T22:02:55.116761Z"
    }
   }
  },
  {
   "cell_type": "code",
   "execution_count": 2,
   "outputs": [],
   "source": [
    "COEF = 3.0\n",
    "\n",
    "def sample(size):\n",
    "    return np.arange(size) * COEF"
   ],
   "metadata": {
    "collapsed": false,
    "ExecuteTime": {
     "end_time": "2023-12-04T22:02:59.556030Z",
     "start_time": "2023-12-04T22:02:59.365572Z"
    }
   }
  },
  {
   "cell_type": "code",
   "execution_count": 3,
   "outputs": [
    {
     "data": {
      "text/plain": "0       0.0\n1       3.0\n2       6.0\n3       9.0\n4      12.0\n      ...  \n95    285.0\n96    288.0\n97    291.0\n98    294.0\n99    297.0\nName: sample, Length: 100, dtype: float64"
     },
     "execution_count": 3,
     "metadata": {},
     "output_type": "execute_result"
    }
   ],
   "source": [
    "def somefunc(size=100, *, name='sample'):\n",
    "    data = sample(size)\n",
    "    res = pd.Series(data, name=name)\n",
    "    return res\n",
    "\n",
    "somefunc()"
   ],
   "metadata": {
    "collapsed": false,
    "ExecuteTime": {
     "end_time": "2023-12-04T22:03:00.255526Z",
     "start_time": "2023-12-04T22:03:00.236351Z"
    }
   }
  },
  {
   "cell_type": "code",
   "execution_count": 4,
   "outputs": [
    {
     "data": {
      "text/plain": "<tempcache.caching.TempCache at 0x103cf0590>"
     },
     "execution_count": 4,
     "metadata": {},
     "output_type": "execute_result"
    }
   ],
   "source": [
    "cache = TempCache(pickler=cloudpickle)\n",
    "cache"
   ],
   "metadata": {
    "collapsed": false,
    "ExecuteTime": {
     "end_time": "2023-12-04T22:03:01.065372Z",
     "start_time": "2023-12-04T22:03:01.043936Z"
    }
   }
  },
  {
   "cell_type": "code",
   "execution_count": 5,
   "outputs": [
    {
     "data": {
      "text/plain": "0"
     },
     "execution_count": 5,
     "metadata": {},
     "output_type": "execute_result"
    }
   ],
   "source": [
    "cache.clear_items(True)\n"
   ],
   "metadata": {
    "collapsed": false,
    "ExecuteTime": {
     "end_time": "2023-12-04T22:03:01.799090Z",
     "start_time": "2023-12-04T22:03:01.780739Z"
    }
   }
  },
  {
   "cell_type": "code",
   "execution_count": 6,
   "outputs": [
    {
     "name": "stderr",
     "output_type": "stream",
     "text": [
      "DEBUG:tempcache.caching:saving tempcache-0117f4b9cdb5a5417bc2012a8956f201.tmp\n",
      "DEBUG:tempcache.caching:loading tempcache-0117f4b9cdb5a5417bc2012a8956f201.tmp\n",
      "DEBUG:tempcache.caching:loading tempcache-0117f4b9cdb5a5417bc2012a8956f201.tmp\n",
      "DEBUG:tempcache.caching:saving tempcache-6e2ace0edf8e137d9c73b1a79574515e.tmp\n"
     ]
    },
    {
     "name": "stdout",
     "output_type": "stream",
     "text": [
      "200\n"
     ]
    }
   ],
   "source": [
    "res = cache.cache_result(somefunc)\n",
    "res = cache.cache_result(somefunc)\n",
    "res = cache.cache_result(somefunc, 100)\n",
    "res = cache.cache_result(somefunc, 200)\n",
    "print(len(res))"
   ],
   "metadata": {
    "collapsed": false,
    "ExecuteTime": {
     "end_time": "2023-12-04T22:03:02.502443Z",
     "start_time": "2023-12-04T22:03:02.481391Z"
    }
   }
  },
  {
   "cell_type": "code",
   "execution_count": 7,
   "outputs": [
    {
     "name": "stderr",
     "output_type": "stream",
     "text": [
      "DEBUG:tempcache.caching:loading tempcache-0117f4b9cdb5a5417bc2012a8956f201.tmp\n",
      "DEBUG:tempcache.caching:loading tempcache-0117f4b9cdb5a5417bc2012a8956f201.tmp\n",
      "DEBUG:tempcache.caching:loading tempcache-0117f4b9cdb5a5417bc2012a8956f201.tmp\n",
      "DEBUG:tempcache.caching:loading tempcache-6e2ace0edf8e137d9c73b1a79574515e.tmp\n"
     ]
    },
    {
     "name": "stdout",
     "output_type": "stream",
     "text": [
      "200\n"
     ]
    }
   ],
   "source": [
    "res = cache.cache_result(somefunc)\n",
    "res = cache.cache_result(somefunc)\n",
    "res = cache.cache_result(somefunc, 100)\n",
    "res = cache.cache_result(somefunc, 200)\n",
    "print(len(res))"
   ],
   "metadata": {
    "collapsed": false,
    "ExecuteTime": {
     "end_time": "2023-12-04T22:03:03.151846Z",
     "start_time": "2023-12-04T22:03:03.131833Z"
    }
   }
  },
  {
   "cell_type": "code",
   "execution_count": 8,
   "outputs": [
    {
     "name": "stdout",
     "output_type": "stream",
     "text": [
      "tempcache-0117f4b9cdb5a5417bc2012a8956f201.tmp\n",
      "tempcache-6e2ace0edf8e137d9c73b1a79574515e.tmp\n"
     ]
    }
   ],
   "source": [
    "for item in cache.items():\n",
    "    print(item)    "
   ],
   "metadata": {
    "collapsed": false,
    "ExecuteTime": {
     "end_time": "2023-12-04T22:03:05.303789Z",
     "start_time": "2023-12-04T22:03:05.284720Z"
    }
   }
  },
  {
   "cell_type": "code",
   "execution_count": 9,
   "outputs": [
    {
     "name": "stderr",
     "output_type": "stream",
     "text": [
      "DEBUG:tempcache.caching:deleting tempcache-0117f4b9cdb5a5417bc2012a8956f201.tmp\n",
      "DEBUG:tempcache.caching:deleting tempcache-6e2ace0edf8e137d9c73b1a79574515e.tmp\n"
     ]
    },
    {
     "data": {
      "text/plain": "2"
     },
     "execution_count": 9,
     "metadata": {},
     "output_type": "execute_result"
    }
   ],
   "source": [
    "cache.clear_items(True)"
   ],
   "metadata": {
    "collapsed": false,
    "ExecuteTime": {
     "end_time": "2023-12-04T22:03:05.921336Z",
     "start_time": "2023-12-04T22:03:05.904667Z"
    }
   }
  },
  {
   "cell_type": "code",
   "execution_count": null,
   "outputs": [],
   "source": [],
   "metadata": {
    "collapsed": false
   }
  }
 ],
 "metadata": {
  "kernelspec": {
   "display_name": "Python 3",
   "language": "python",
   "name": "python3"
  },
  "language_info": {
   "codemirror_mode": {
    "name": "ipython",
    "version": 2
   },
   "file_extension": ".py",
   "mimetype": "text/x-python",
   "name": "python",
   "nbconvert_exporter": "python",
   "pygments_lexer": "ipython2",
   "version": "2.7.6"
  }
 },
 "nbformat": 4,
 "nbformat_minor": 0
}
