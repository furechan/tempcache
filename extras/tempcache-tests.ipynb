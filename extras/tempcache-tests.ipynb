{
 "cells": [
  {
   "cell_type": "code",
   "execution_count": 71,
   "outputs": [],
   "source": [
    "import logging\n",
    "\n",
    "import numpy as np\n",
    "import pandas as pd\n",
    "\n",
    "import cloudpickle\n",
    "from tempcache import TempCache\n",
    "\n",
    "logging.basicConfig()\n",
    "logging.getLogger(\"tempcache\").setLevel(logging.DEBUG)\n"
   ],
   "metadata": {
    "collapsed": false,
    "ExecuteTime": {
     "end_time": "2023-12-03T23:19:26.194677Z",
     "start_time": "2023-12-03T23:19:26.178762Z"
    }
   }
  },
  {
   "cell_type": "code",
   "execution_count": 72,
   "outputs": [],
   "source": [
    "COEF = 3.0\n",
    "\n",
    "def sample(size):\n",
    "    return np.arange(size) * COEF"
   ],
   "metadata": {
    "collapsed": false,
    "ExecuteTime": {
     "end_time": "2023-12-03T23:19:26.623644Z",
     "start_time": "2023-12-03T23:19:26.615982Z"
    }
   }
  },
  {
   "cell_type": "code",
   "execution_count": 73,
   "outputs": [
    {
     "data": {
      "text/plain": "0       0.0\n1       3.0\n2       6.0\n3       9.0\n4      12.0\n      ...  \n95    285.0\n96    288.0\n97    291.0\n98    294.0\n99    297.0\nName: sample, Length: 100, dtype: float64"
     },
     "execution_count": 73,
     "metadata": {},
     "output_type": "execute_result"
    }
   ],
   "source": [
    "def somefunc(size=100, *, name='sample'):\n",
    "    data = sample(size)\n",
    "    res = pd.Series(data, name=name)\n",
    "    return res\n",
    "\n",
    "somefunc()"
   ],
   "metadata": {
    "collapsed": false,
    "ExecuteTime": {
     "end_time": "2023-12-03T23:19:27.216056Z",
     "start_time": "2023-12-03T23:19:27.190267Z"
    }
   }
  },
  {
   "cell_type": "code",
   "execution_count": 74,
   "outputs": [
    {
     "data": {
      "text/plain": "<tempcache.caching.TempCache at 0x11d14e520>"
     },
     "execution_count": 74,
     "metadata": {},
     "output_type": "execute_result"
    }
   ],
   "source": [
    "cache = TempCache(pickler=cloudpickle)\n",
    "cache"
   ],
   "metadata": {
    "collapsed": false,
    "ExecuteTime": {
     "end_time": "2023-12-03T23:19:27.945083Z",
     "start_time": "2023-12-03T23:19:27.915564Z"
    }
   }
  },
  {
   "cell_type": "code",
   "execution_count": 75,
   "outputs": [
    {
     "data": {
      "text/plain": "0"
     },
     "execution_count": 75,
     "metadata": {},
     "output_type": "execute_result"
    }
   ],
   "source": [
    "cache.clear_items(True)\n"
   ],
   "metadata": {
    "collapsed": false,
    "ExecuteTime": {
     "end_time": "2023-12-03T23:19:28.660167Z",
     "start_time": "2023-12-03T23:19:28.645050Z"
    }
   }
  },
  {
   "cell_type": "code",
   "execution_count": 76,
   "outputs": [
    {
     "name": "stderr",
     "output_type": "stream",
     "text": [
      "DEBUG:tempcache.caching:saving tempcache-e01279b2da268d2f816a3a9048a5d649.tmp ...\n",
      "DEBUG:tempcache.caching:loading tempcache-e01279b2da268d2f816a3a9048a5d649.tmp ...\n",
      "DEBUG:tempcache.caching:loading tempcache-e01279b2da268d2f816a3a9048a5d649.tmp ...\n",
      "DEBUG:tempcache.caching:saving tempcache-7418fcbc6aa51c7959738d9092ed2951.tmp ...\n"
     ]
    },
    {
     "name": "stdout",
     "output_type": "stream",
     "text": [
      "key ('somefunc', (100,), {'name': 'sample'})\n",
      "key ('somefunc', (100,), {'name': 'sample'})\n",
      "key ('somefunc', (100,), {'name': 'sample'})\n",
      "key ('somefunc', (200,), {'name': 'sample'})\n",
      "200\n"
     ]
    }
   ],
   "source": [
    "res = cache.cache_result(somefunc)\n",
    "res = cache.cache_result(somefunc)\n",
    "res = cache.cache_result(somefunc, 100)\n",
    "res = cache.cache_result(somefunc, 200)\n",
    "print(len(res))"
   ],
   "metadata": {
    "collapsed": false,
    "ExecuteTime": {
     "end_time": "2023-12-03T23:19:29.513902Z",
     "start_time": "2023-12-03T23:19:29.494344Z"
    }
   }
  },
  {
   "cell_type": "code",
   "execution_count": 77,
   "outputs": [
    {
     "name": "stderr",
     "output_type": "stream",
     "text": [
      "DEBUG:tempcache.caching:loading tempcache-e01279b2da268d2f816a3a9048a5d649.tmp ...\n",
      "DEBUG:tempcache.caching:loading tempcache-e01279b2da268d2f816a3a9048a5d649.tmp ...\n",
      "DEBUG:tempcache.caching:loading tempcache-e01279b2da268d2f816a3a9048a5d649.tmp ...\n",
      "DEBUG:tempcache.caching:loading tempcache-7418fcbc6aa51c7959738d9092ed2951.tmp ...\n"
     ]
    },
    {
     "name": "stdout",
     "output_type": "stream",
     "text": [
      "key ('somefunc', (100,), {'name': 'sample'})\n",
      "key ('somefunc', (100,), {'name': 'sample'})\n",
      "key ('somefunc', (100,), {'name': 'sample'})\n",
      "key ('somefunc', (200,), {'name': 'sample'})\n",
      "200\n"
     ]
    }
   ],
   "source": [
    "res = cache.cache_result(somefunc)\n",
    "res = cache.cache_result(somefunc)\n",
    "res = cache.cache_result(somefunc, 100)\n",
    "res = cache.cache_result(somefunc, 200)\n",
    "print(len(res))"
   ],
   "metadata": {
    "collapsed": false,
    "ExecuteTime": {
     "end_time": "2023-12-03T23:19:30.245195Z",
     "start_time": "2023-12-03T23:19:30.224737Z"
    }
   }
  },
  {
   "cell_type": "code",
   "execution_count": 78,
   "outputs": [
    {
     "name": "stdout",
     "output_type": "stream",
     "text": [
      "tempcache-7418fcbc6aa51c7959738d9092ed2951.tmp\n",
      "tempcache-e01279b2da268d2f816a3a9048a5d649.tmp\n"
     ]
    }
   ],
   "source": [
    "for item in cache.items():\n",
    "    print(item)    "
   ],
   "metadata": {
    "collapsed": false,
    "ExecuteTime": {
     "end_time": "2023-12-03T23:19:30.894547Z",
     "start_time": "2023-12-03T23:19:30.880630Z"
    }
   }
  },
  {
   "cell_type": "code",
   "execution_count": 79,
   "outputs": [
    {
     "name": "stderr",
     "output_type": "stream",
     "text": [
      "DEBUG:tempcache.caching:deleting tempcache-7418fcbc6aa51c7959738d9092ed2951.tmp ...\n",
      "DEBUG:tempcache.caching:deleting tempcache-e01279b2da268d2f816a3a9048a5d649.tmp ...\n"
     ]
    },
    {
     "data": {
      "text/plain": "2"
     },
     "execution_count": 79,
     "metadata": {},
     "output_type": "execute_result"
    }
   ],
   "source": [
    "cache.clear_items(True)"
   ],
   "metadata": {
    "collapsed": false,
    "ExecuteTime": {
     "end_time": "2023-12-03T23:19:31.465429Z",
     "start_time": "2023-12-03T23:19:31.451672Z"
    }
   }
  },
  {
   "cell_type": "code",
   "execution_count": null,
   "outputs": [],
   "source": [],
   "metadata": {
    "collapsed": false
   }
  }
 ],
 "metadata": {
  "kernelspec": {
   "display_name": "Python 3",
   "language": "python",
   "name": "python3"
  },
  "language_info": {
   "codemirror_mode": {
    "name": "ipython",
    "version": 2
   },
   "file_extension": ".py",
   "mimetype": "text/x-python",
   "name": "python",
   "nbconvert_exporter": "python",
   "pygments_lexer": "ipython2",
   "version": "2.7.6"
  }
 },
 "nbformat": 4,
 "nbformat_minor": 0
}
